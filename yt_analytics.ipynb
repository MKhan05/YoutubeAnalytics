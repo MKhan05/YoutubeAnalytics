{
 "cells": [
  {
   "cell_type": "code",
   "execution_count": 14,
   "metadata": {},
   "outputs": [],
   "source": [
    "import argparse\n",
    "import os\n",
    "import google.oauth2.credentials\n",
    "import google_auth_oauthlib.flow\n",
    "from googleapiclient.discovery import build\n",
    "from googleapiclient.errors import HttpError\n",
    "from googleapiclient.http import MediaIoBaseDownload\n",
    "from google_auth_oauthlib.flow import InstalledAppFlow\n",
    "from io import FileIO\n",
    "import csv\n",
    "import pandas as pd"
   ]
  },
  {
   "cell_type": "code",
   "execution_count": 2,
   "metadata": {},
   "outputs": [],
   "source": [
    "from tabulate import tabulate\n",
    "\n",
    "SCOPES = ['https://www.googleapis.com/auth/yt-analytics.readonly']"
   ]
  },
  {
   "cell_type": "code",
   "execution_count": 3,
   "metadata": {},
   "outputs": [],
   "source": [
    "API_SERVICE_NAME = 'youtubeAnalytics'\n",
    "API_VERSION = 'v2'\n",
    "\n",
    "CLIENT_SECRETS_FILE = 'C:/Users/minha/Desktop/client_secret_558997714597-6tddji99vgbrka974vcnt430sfsdavso.apps.googleusercontent.com.json'"
   ]
  },
  {
   "cell_type": "code",
   "execution_count": 4,
   "metadata": {},
   "outputs": [],
   "source": [
    "def get_service():\n",
    "  flow = InstalledAppFlow.from_client_secrets_file(CLIENT_SECRETS_FILE, SCOPES)\n",
    "  credentials = flow.run_console()\n",
    "  return build(API_SERVICE_NAME, API_VERSION, credentials = credentials)\n",
    "\n",
    "def execute_api_request(client_library_function, **kwargs):\n",
    "  response = client_library_function(\n",
    "    **kwargs\n",
    "  ).execute()\n",
    "  return response\n",
    "\n",
    "def create_table(table, headers=None):\n",
    "    if headers:\n",
    "        headerstring = \"\\t{}\\t\" * len(headers)\n",
    "        print(headerstring.format(*headers))\n",
    "\n",
    "    rowstring = \"\\t{}\\t\" * len(table[0])\n",
    "\n",
    "    for row in table:\n",
    "        print(rowstring.format(*row))\n",
    "\n",
    "def create_csv(table, headers=None, filename='output.csv'):\n",
    "    with open(filename, 'w') as f:\n",
    "        writer = csv.writer(f)\n",
    "        if headers:\n",
    "            writer.writerow(headers)\n",
    "        writer.writerows(table)"
   ]
  },
  {
   "cell_type": "code",
   "execution_count": null,
   "metadata": {},
   "outputs": [],
   "source": [
    "if __name__ == '__main__':\n",
    "    os.environ['OAUTHLIB_INSECURE_TRANSPORT'] = '1'\n",
    "    youtubeAnalytics = get_service()\n",
    "    result = execute_api_request(\n",
    "        youtubeAnalytics.reports().query,\n",
    "        ids='channel==MINE',\n",
    "        startDate='2022-01-01',\n",
    "        endDate='2023-08-05',\n",
    "        metrics='estimatedMinutesWatched,views,likes,dislikes,subscribersGained,subscribersLost,comments,averageViewDuration',\n",
    "        dimensions='day',\n",
    "        sort='day'\n",
    "    )\n",
    "    headers = ['date','estMinutesWatched', 'views', 'likes', 'dislikes', 'subscribersGained', 'subscribersLost', 'comments','avgviewdur']\n",
    "    create_table(result['rows'], headers=headers)\n",
    "    create_csv(result['rows'], headers=headers)\n",
    "    \n",
    "    print(tabulate(result['rows'], headers=headers, tablefmt=\"pretty\"))\n",
    "    #print(result)"
   ]
  },
  {
   "cell_type": "code",
   "execution_count": null,
   "metadata": {},
   "outputs": [],
   "source": [
    "pd_table = pd.DataFrame(create_table(result['rows'], headers=headers))\n",
    "pd_table\n",
    "\n",
    "\n",
    "\n",
    "#pd_table.to_csv('PandasOutput.csv',index = False, header = True, sep = ',', encoding = 'utf-8')\n",
    "\n"
   ]
  },
  {
   "cell_type": "code",
   "execution_count": null,
   "metadata": {},
   "outputs": [],
   "source": [
    "type(result)"
   ]
  }
 ],
 "metadata": {
  "kernelspec": {
   "display_name": "Python 3",
   "language": "python",
   "name": "python3"
  },
  "language_info": {
   "codemirror_mode": {
    "name": "ipython",
    "version": 3
   },
   "file_extension": ".py",
   "mimetype": "text/x-python",
   "name": "python",
   "nbconvert_exporter": "python",
   "pygments_lexer": "ipython3",
   "version": "3.11.4"
  },
  "orig_nbformat": 4
 },
 "nbformat": 4,
 "nbformat_minor": 2
}
