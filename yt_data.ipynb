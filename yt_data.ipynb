{
 "cells": [
  {
   "cell_type": "code",
   "execution_count": null,
   "metadata": {},
   "outputs": [],
   "source": [
    "import os\n",
    "from dotenv import load_dotenv\n",
    "from googleapiclient.discovery import build\n",
    "load_dotenv()"
   ]
  },
  {
   "cell_type": "code",
   "execution_count": null,
   "metadata": {},
   "outputs": [],
   "source": [
    "API_KEY = os.getenv(\"API_KEY\")\n",
    "API_KEY\n",
    "print(API_KEY)"
   ]
  },
  {
   "cell_type": "code",
   "execution_count": 30,
   "metadata": {},
   "outputs": [],
   "source": [
    "youtube = build(\"youtube\", \"v3\", developerKey=API_KEY)"
   ]
  },
  {
   "cell_type": "code",
   "execution_count": 31,
   "metadata": {},
   "outputs": [],
   "source": [
    "def search_result(query):\n",
    "    \"\"\"\n",
    "    Refer to the documentation: https://googleapis.github.io/google-api-python-client/docs/dyn/youtube_v3.search.html\n",
    "    \"\"\"\n",
    "    request = youtube.search().list(\n",
    "        part=\"snippet\",\n",
    "        q=query,\n",
    "        maxResults=10,\n",
    "    )\n",
    "\n",
    "    return request.execute()"
   ]
  },
  {
   "cell_type": "code",
   "execution_count": null,
   "metadata": {},
   "outputs": [],
   "source": [
    "def channel_stats(channelID):\n",
    "    \"\"\"\n",
    "    Refer to the documentation: https://googleapis.github.io/google-api-python-client/docs/dyn/youtube_v3.channels.html\n",
    "    \"\"\"\n",
    "    request = youtube.channels().list(\n",
    "        part=\"statistics\",\n",
    "        id=channelID\n",
    "    )\n",
    "    return request.execute()\n",
    "\n",
    "response = channel_stats(\"UC50eaYi1tmwfHmYCeFwHbEA\")\n",
    "search = search_result(\"SoGreenItsLime\")\n",
    "print(response)\n",
    "print(search)"
   ]
  },
  {
   "cell_type": "code",
   "execution_count": null,
   "metadata": {},
   "outputs": [],
   "source": [
    "def get_video_ids(channelId):\n",
    "    \"\"\"\n",
    "    Refer to the documentation: https://googleapis.github.io/google-api-python-client/docs/dyn/youtube_v3.search.html\n",
    "    \"\"\"\n",
    "    videoIds = []\n",
    " \n",
    "    request = youtube.search().list(\n",
    "        part=\"snippet\",\n",
    "        channelId=channelId,\n",
    "        type=\"video\",\n",
    "        maxResults=50,\n",
    "        videoDuration=\"any\",\n",
    "        order=\"viewCount\"\n",
    "    )\n",
    "\n",
    "    return request.execute()\n",
    "\n",
    "results = get_video_ids(\"UC50eaYi1tmwfHmYCeFwHbEA\")\n",
    "print(results)\n",
    "    # response = request.execute()\n",
    "    # responseItems = response['items']\n",
    "\n",
    "    # videoIds.extend([item['id']['videoId'] for item in responseItems if item['id'].get('videoId', None) != None])\n",
    "\n",
    "    # if there is nextPageToken, then keep calling the API\n",
    "    # while response.get('nextPageToken', None):\n",
    "    #     request = youtube.search().list(\n",
    "    #         part=\"snippet\",\n",
    "    #         channelId=channelId,\n",
    "    #     )\n",
    "    #     response = request.execute()\n",
    "    #     responseItems = response['items']\n",
    "\n",
    "    #     videoIds.extend([item['id']['videoId'] for item in responseItems if item['id'].get('videoId', None) != None])\n",
    "    \n",
    "    # print(f\"Finished fetching videoIds for {channelId}. {len(videoIds)} videos found.\")\n",
    "\n",
    "    # return videoIds"
   ]
  },
  {
   "cell_type": "code",
   "execution_count": null,
   "metadata": {},
   "outputs": [],
   "source": [
    "if __name__ == '__main__':\n",
    "    # to get a list of IDs from a channel\n",
    "    ids = get_video_ids(\"UC50eaYi1tmwfHmYCeFwHbEA\")\n",
    "\n",
    "    # to get results from search\n",
    "    # response = search_result(\"pyscript\")\n",
    "\n",
    "    # get channel stats\n",
    "    # response = channel_stats(channelID='UCzIxc8Vg53_ewaRIk3shBug')\n",
    "\n",
    "    # get comments\n",
    "    #response = comment_threads(videoID='Qo8dXyKXyME', to_csv=True)\n",
    "\n",
    "    print(ids)"
   ]
  }
 ],
 "metadata": {
  "kernelspec": {
   "display_name": "Python 3",
   "language": "python",
   "name": "python3"
  },
  "language_info": {
   "codemirror_mode": {
    "name": "ipython",
    "version": 3
   },
   "file_extension": ".py",
   "mimetype": "text/x-python",
   "name": "python",
   "nbconvert_exporter": "python",
   "pygments_lexer": "ipython3",
   "version": "3.11.4"
  },
  "orig_nbformat": 4
 },
 "nbformat": 4,
 "nbformat_minor": 2
}
